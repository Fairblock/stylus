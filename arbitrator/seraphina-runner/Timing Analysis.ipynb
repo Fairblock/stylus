{
 "cells": [
  {
   "cell_type": "code",
   "execution_count": 9,
   "id": "fff83847",
   "metadata": {},
   "outputs": [],
   "source": [
    "import numpy as np"
   ]
  },
  {
   "cell_type": "code",
   "execution_count": 4,
   "id": "a32de75f",
   "metadata": {},
   "outputs": [
    {
     "name": "stdout",
     "output_type": "stream",
     "text": [
      "145.493µs\n",
      "[('Block', 842), ('Loop', 29), ('If', 1309), ('End', 67), ('Br', 167), ('BrIf', 796), ('BrTable', 27), ('Return', 74), ('Call', 60), ('CallIndirect', 15)]\n"
     ]
    }
   ],
   "source": [
    "fns = [\"stdout.txt\"]\n",
    "def get_opcodes_from_file(fn): \n",
    "    with open(fn) as f:\n",
    "        contents = f.read()\n",
    "    f_lines = [line.strip() for line in contents.split('\\n') if len(line) > 0]\n",
    "    # for line in f_lines:\n",
    "    #     print(line)\n",
    "    timing_line = f_lines[0]\n",
    "    opcode_lines = f_lines[1:]\n",
    "    prefix = \"Time elapsed in running program() is: \"\n",
    "    assert timing_line.startswith(prefix) \n",
    "    timing_data = timing_line[len(prefix):]\n",
    "    print(timing_data)\n",
    "\n",
    "    def parse_opcode_line(line): \n",
    "        split_line = line.split('\\t')\n",
    "        assert len(split_line) == 2, line\n",
    "        opcode = split_line[0]\n",
    "        opcode_count = int(split_line[1])\n",
    "        return (opcode, opcode_count)\n",
    "\n",
    "    opcode_counts = [parse_opcode_line(line) for line in opcode_lines]\n",
    "    print(opcode_counts[:10])\n",
    "    return dict(opcode_counts), timing_data\n",
    "counts_from_fns = {fn : get_opcodes_from_file(fn) for fn in fns}"
   ]
  },
  {
   "cell_type": "code",
   "execution_count": 11,
   "id": "b1c82998",
   "metadata": {},
   "outputs": [
    {
     "data": {
      "text/plain": [
       "array([[ 1309,  1235,  1235,  1879,   237,    12,    60,  2441,     1,\n",
       "        23256,    95,    27,    78,    20,    62,    74,    15,    29,\n",
       "           17,   842,   167,     1,   138,   294,    27,     2, 25617,\n",
       "           78,    19,     1,  2347,    23,  6408,   700,   964,   368,\n",
       "           67,     4,   177,   600,    78,   256, 24550,     2,    55,\n",
       "         1424,   160,   796,     1,     1,   355,     1,   412,     1,\n",
       "        21843,    19]], dtype=int32)"
      ]
     },
     "execution_count": 11,
     "metadata": {},
     "output_type": "execute_result"
    }
   ],
   "source": [
    "all_opcodes = set().union(*(opcode_dict.keys() for _fn, (opcode_dict, _timing) in counts_from_fns.items()))\n",
    "opcode_indices = dict(zip(all_opcodes, range(len(all_opcodes))))\n",
    "opcode_indices\n",
    "def opcode_dict_to_arr(opcode_indices, opcode_count_dict): \n",
    "    out = np.zeros(len(opcode_indices), dtype=np.int32)\n",
    "    for opcode, count in opcode_count_dict.items():\n",
    "        out[opcode_indices[opcode]] = count \n",
    "    return out \n",
    "opcode_arrs = [opcode_dict_to_arr(opcode_indices, opcode_dict) for _fn, (opcode_dict, _timing) in counts_from_fns.items()]\n",
    "opcode_matrix = np.stack(opcode_arrs)\n",
    "opcode_matrix"
   ]
  }
 ],
 "metadata": {
  "kernelspec": {
   "display_name": "Python 3 (ipykernel)",
   "language": "python",
   "name": "python3"
  },
  "language_info": {
   "codemirror_mode": {
    "name": "ipython",
    "version": 3
   },
   "file_extension": ".py",
   "mimetype": "text/x-python",
   "name": "python",
   "nbconvert_exporter": "python",
   "pygments_lexer": "ipython3",
   "version": "3.10.6"
  }
 },
 "nbformat": 4,
 "nbformat_minor": 5
}
